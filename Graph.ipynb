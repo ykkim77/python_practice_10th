{
  "cells": [
    {
      "cell_type": "markdown",
      "metadata": {
        "colab_type": "text",
        "id": "view-in-github"
      },
      "source": [
        "<a href=\"https://colab.research.google.com/github/ykkim77/python-13th-week/blob/main/python_13th_week.ipynb\" target=\"_parent\"><img src=\"https://colab.research.google.com/assets/colab-badge.svg\" alt=\"Open In Colab\"/></a>"
      ]
    },
    {
      "cell_type": "markdown",
      "metadata": {
        "id": "_17Zhg4BXgzQ"
      },
      "source": [
        "# 그래프"
      ]
    },
    {
      "cell_type": "markdown",
      "metadata": {
        "id": "Q_jsQatEZHj0"
      },
      "source": [
        "## 그래프 핵심 코드 구현"
      ]
    },
    {
      "cell_type": "markdown",
      "metadata": {},
      "source": [
        "- 그래프 정의"
      ]
    },
    {
      "cell_type": "code",
      "execution_count": 1,
      "metadata": {
        "id": "gJHLDQa3Xat-"
      },
      "outputs": [],
      "source": [
        "class Graph() :\n",
        "\tdef __init__ (self, size) :\n",
        "\t\tself.SIZE = size\n",
        "\t\tself.graph = [ [0 for _ in range(size)] for _ in range(size) ]"
      ]
    },
    {
      "cell_type": "code",
      "execution_count": 3,
      "metadata": {},
      "outputs": [],
      "source": [
        "# 전역 변수 선언\n",
        "G1, G3 = None, None"
      ]
    },
    {
      "cell_type": "markdown",
      "metadata": {
        "id": "3KOQIqLRZaed"
      },
      "source": [
        "- 무방향 그래프 인접 행렬"
      ]
    },
    {
      "cell_type": "markdown",
      "metadata": {},
      "source": [
        "![G1](./images/G1.jpg)"
      ]
    },
    {
      "cell_type": "code",
      "execution_count": 4,
      "metadata": {},
      "outputs": [],
      "source": [
        "G1 = Graph(4)\n",
        "G1.graph[0][1] = 1; G1.graph[0][2] = 1; G1.graph[0][3] = 1\n",
        "G1.graph[1][0] = 1; G1.graph[1][2] = 1\n",
        "G1.graph[2][0] = 1; G1.graph[2][1] = 1; G1.graph[2][3] = 1\n",
        "G1.graph[3][0] = 1; G1.graph[3][2] = 1"
      ]
    },
    {
      "cell_type": "code",
      "execution_count": 5,
      "metadata": {},
      "outputs": [
        {
          "name": "stdout",
          "output_type": "stream",
          "text": [
            "## G1 무방향 그래프 ##\n",
            "0 1 1 1 \n",
            "1 0 1 0 \n",
            "1 1 0 1 \n",
            "1 0 1 0 \n"
          ]
        }
      ],
      "source": [
        "print('## G1 무방향 그래프 ##')\n",
        "for row in range(4) :\n",
        "\tfor col in range(4) :\n",
        "\t\tprint(G1.graph[row][col], end=' ')\n",
        "\tprint()"
      ]
    },
    {
      "cell_type": "markdown",
      "metadata": {},
      "source": [
        "- 방향 그래프 인접 행렬"
      ]
    },
    {
      "cell_type": "markdown",
      "metadata": {},
      "source": [
        "![G3](./images/G3.jpg)"
      ]
    },
    {
      "cell_type": "code",
      "execution_count": 6,
      "metadata": {},
      "outputs": [],
      "source": [
        "G3 = Graph(4)\n",
        "G3.graph[0][1] = 1; G3.graph[0][2] = 1\n",
        "G3.graph[3][0] = 1; G3.graph[3][2] = 1"
      ]
    },
    {
      "cell_type": "code",
      "execution_count": 8,
      "metadata": {
        "id": "lDjoQ5CQZcKM"
      },
      "outputs": [
        {
          "name": "stdout",
          "output_type": "stream",
          "text": [
            "## G3 방향 그래프 ##\n",
            "0 1 1 0 \n",
            "0 0 0 0 \n",
            "0 0 0 0 \n",
            "1 0 1 0 \n"
          ]
        }
      ],
      "source": [
        "print('## G3 방향 그래프 ##')\n",
        "for row in range(4) :\n",
        "\tfor col in range(4) :\n",
        "\t\tprint(G3.graph[row][col], end=' ')\n",
        "\tprint()"
      ]
    },
    {
      "cell_type": "markdown",
      "metadata": {},
      "source": [
        "# 깊이 우선 탐색"
      ]
    },
    {
      "cell_type": "markdown",
      "metadata": {},
      "source": [
        "- 깊이 우선 탐색으로 탐색할 그래프"
      ]
    },
    {
      "cell_type": "markdown",
      "metadata": {},
      "source": [
        "![DFS](./images/DFS.jpg)"
      ]
    },
    {
      "cell_type": "markdown",
      "metadata": {},
      "source": [
        "- 그래프 정의"
      ]
    },
    {
      "cell_type": "code",
      "execution_count": 9,
      "metadata": {
        "id": "lDjoQ5CQZcKM"
      },
      "outputs": [],
      "source": [
        "class Graph() :\n",
        "\tdef __init__ (self, size) :\n",
        "\t\tself.SIZE = size\n",
        "\t\tself.graph = [[0 for _ in range(size)] for _ in range(size)]"
      ]
    },
    {
      "cell_type": "markdown",
      "metadata": {},
      "source": [
        "- 그래프 선언"
      ]
    },
    {
      "cell_type": "code",
      "execution_count": 10,
      "metadata": {
        "id": "lDjoQ5CQZcKM"
      },
      "outputs": [],
      "source": [
        "## 전역 변수 선언 부분 ##\n",
        "G1 = None\n",
        "stack = []\n",
        "visitedAry = []\t\t# 방문한 정점\n",
        "\n",
        "## 메인 코드 부분 ##\n",
        "G1 = Graph(4)\n",
        "G1.graph[0][2] = 1; G1.graph[0][3] = 1\n",
        "G1.graph[1][2] = 1\n",
        "G1.graph[2][0] = 1; G1.graph[2][1] = 1; G1.graph[2][3] = 1\n",
        "G1.graph[3][0] = 1; G1.graph[3][2] = 1"
      ]
    },
    {
      "cell_type": "code",
      "execution_count": 11,
      "metadata": {},
      "outputs": [
        {
          "name": "stdout",
          "output_type": "stream",
          "text": [
            "## G1 무방향 그래프 ##\n",
            "0 0 1 1 \n",
            "0 0 1 0 \n",
            "1 1 0 1 \n",
            "1 0 1 0 \n"
          ]
        }
      ],
      "source": [
        "print('## G1 무방향 그래프 ##')\n",
        "for row in range(4) :\n",
        "\tfor col in range(4) :\n",
        "\t\tprint(G1.graph[row][col], end = ' ')\n",
        "\tprint()"
      ]
    },
    {
      "cell_type": "markdown",
      "metadata": {},
      "source": [
        "- 깊이 우선 탐색"
      ]
    },
    {
      "cell_type": "code",
      "execution_count": 13,
      "metadata": {},
      "outputs": [],
      "source": [
        "current = 0\t\t# 시작 정점 A\n",
        "stack.append(current)\n",
        "visitedAry.append(current)\n",
        "\n",
        "while (len(stack) != 0) :\n",
        "\tnext = None\n",
        "\tfor vertex in range(4) :\n",
        "\t\tif G1.graph[current][vertex] == 1 :\n",
        "\t\t\tif vertex in visitedAry :  \t   # 방문한 적이 있는 정점이면 탈락\n",
        "\t\t\t\tpass\n",
        "\t\t\telse : \t\t\t   # 방문한 적이 없으면 다음 정점으로 지정\n",
        "\t\t\t\tnext = vertex\n",
        "\t\t\t\tbreak\n",
        "\n",
        "\tif next != None :\t\t\t  \t   # 다음에 방문할 정점이 있는 경우\n",
        "\t\tcurrent = next\n",
        "\t\tstack.append(current)\n",
        "\t\tvisitedAry.append(current)\n",
        "\telse :            \t  \t  \t  \t  # 다음에 방문할 정점이 없는 경우\n",
        "\t\tcurrent = stack.pop()"
      ]
    },
    {
      "cell_type": "markdown",
      "metadata": {},
      "source": [
        "- 방문한 노드 살펴 보기"
      ]
    },
    {
      "cell_type": "code",
      "execution_count": 14,
      "metadata": {},
      "outputs": [
        {
          "name": "stdout",
          "output_type": "stream",
          "text": [
            "방문 순서 -->A   C   B   D   "
          ]
        }
      ],
      "source": [
        "print('방문 순서 -->', end='')\n",
        "for i in visitedAry :\n",
        "\tprint(chr(ord('A')+i), end='   ')"
      ]
    }
  ],
  "metadata": {
    "colab": {
      "authorship_tag": "ABX9TyNfYEYHL4wCNbBmxfR+rFfd",
      "collapsed_sections": [],
      "include_colab_link": true,
      "name": "python-13th-week.ipynb",
      "provenance": []
    },
    "kernelspec": {
      "display_name": "Python 3",
      "name": "python3"
    },
    "language_info": {
      "codemirror_mode": {
        "name": "ipython",
        "version": 3
      },
      "file_extension": ".py",
      "mimetype": "text/x-python",
      "name": "python",
      "nbconvert_exporter": "python",
      "pygments_lexer": "ipython3",
      "version": "3.9.4"
    }
  },
  "nbformat": 4,
  "nbformat_minor": 0
}
